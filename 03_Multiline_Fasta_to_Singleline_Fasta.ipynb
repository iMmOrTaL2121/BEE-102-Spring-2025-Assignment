{
 "cells": [
  {
   "cell_type": "code",
   "execution_count": 1,
   "id": "9a4cdec9",
   "metadata": {},
   "outputs": [
    {
     "name": "stdout",
     "output_type": "stream",
     "text": [
      "The converted output is saved as 'output.fasta'.\n"
     ]
    }
   ],
   "source": [
    "input_file = \"multiline_input.fasta\"\n",
    "output_file = \"output.fasta\"\n",
    "  \n",
    "with open(input_file, 'r') as input, open(output_file, 'w') as outfile:\n",
    "    \n",
    "    header_found = False\n",
    "    \n",
    "    for line in input:\n",
    "        # Remove newline characters from the start and end of the line.\n",
    "        line = line.strip('\\n')\n",
    "        \n",
    "        # Check if the line starts with '>' indicating a header line so add a new line accordingly.\n",
    "        if line.startswith('>'):\n",
    "            \n",
    "            if header_found:\n",
    "                outfile.write('\\n')\n",
    "            \n",
    "            outfile.write(line + '\\n')\n",
    "            header_found = True\n",
    "        else:\n",
    "            # Write sequence lines continuously (concatenated) without newlines.\n",
    "            outfile.write(line.strip())\n",
    "    \n",
    "    # Write a newline at the end of the file for proper termination.\n",
    "    outfile.write('\\n')\n",
    "\n",
    "print(f\"The converted output is saved as \\'output.fasta\\'.\")\n"
   ]
  }
 ],
 "metadata": {
  "kernelspec": {
   "display_name": "Python 3",
   "language": "python",
   "name": "python3"
  },
  "language_info": {
   "codemirror_mode": {
    "name": "ipython",
    "version": 3
   },
   "file_extension": ".py",
   "mimetype": "text/x-python",
   "name": "python",
   "nbconvert_exporter": "python",
   "pygments_lexer": "ipython3",
   "version": "3.11.7"
  }
 },
 "nbformat": 4,
 "nbformat_minor": 5
}
