{
 "cells": [
  {
   "cell_type": "code",
   "execution_count": 1,
   "id": "ffd26b62",
   "metadata": {},
   "outputs": [],
   "source": [
    "import numpy as np\n",
    "import pandas as pd\n"
   ]
  },
  {
   "cell_type": "code",
   "execution_count": 4,
   "id": "9b2de56d",
   "metadata": {},
   "outputs": [
    {
     "name": "stdout",
     "output_type": "stream",
     "text": [
      "          a         c         g         t\n",
      "a  0.211765  0.227451  0.250980  0.309804\n",
      "c  0.240964  0.257028  0.293173  0.208835\n",
      "g  0.263566  0.255814  0.263566  0.217054\n",
      "t  0.286822  0.236434  0.205426  0.271318\n"
     ]
    }
   ],
   "source": [
    "import numpy as np\n",
    "import pandas as pd\n",
    "\n",
    "def build_markov_matrix(sequence):\n",
    "    # Define nucleotide order and index mapping\n",
    "    nucleotides = ['a', 'c', 'g', 't']\n",
    "    nuc_index = {nuc: i for i, nuc in enumerate(nucleotides)}\n",
    "\n",
    "    # Initialize a 4x4 transition count matrix\n",
    "    transition_counts = np.zeros((4, 4), dtype=int)\n",
    "\n",
    "    # Count nucleotide transitions\n",
    "    for i in range(len(sequence) - 1):\n",
    "        curr_nuc = sequence[i]\n",
    "        next_nuc = sequence[i + 1]\n",
    "        if curr_nuc in nuc_index and next_nuc in nuc_index:\n",
    "            transition_counts[nuc_index[curr_nuc], nuc_index[next_nuc]] += 1\n",
    "\n",
    "    # Normalize counts to get transition probabilities\n",
    "    transition_probs = transition_counts.astype(float)\n",
    "    row_totals = transition_probs.sum(axis=1, keepdims=True)\n",
    "    np.seterr(invalid='ignore')  # suppress divide-by-zero warnings\n",
    "    transition_probs = np.divide(transition_probs, row_totals, where=row_totals != 0)\n",
    "\n",
    "    # Create and return a labeled DataFrame\n",
    "    return pd.DataFrame(transition_probs, index=nucleotides, columns=nucleotides)\n",
    "\n",
    "# Example usage\n",
    "dna_seq = (\n",
    "    \"ttgaatccctgtacgttaagtatatcacagtgttgtatgtcgagttgggtcgtagccaatacgtgcctccgtacagaggtctattttaactagtaggctcatttacttgagggactaatgt\"\n",
    "    \"ccaactcatattagcgggggttgggacgcgtaatggacggagccagcctaaggcgaaccgatggcatcaaatacggttgacgtccttatggggaagctcagggtagaagacagttttaacagat\"\n",
    "    \"ccctacggggcgccccttggcattagccagacctcggtgcaacatcagacttgttgggtttcaaataagtaccccgcctgtaaactcccgcgagccatgccgggtggagttactgcgttt\"\n",
    "    \"tgcggctcggagtataatgcctataaacgtctaccgcaaaatgaggatatgagggatctcaacctcaaagactctattaagcccagacgacgtgaaacaggggctactctctgatagccccat\"\n",
    "    \"cgacatatagttcccgattaatattttaatttctatatagatcctcgggaagccgcctcgcgtcggttgcaggcattccaagagtatcccgctgtcagagatatgaggtggtgatatcat\"\n",
    "    \"tgacctatacttcaaaagcaacggggatagacgttggcgggctcgcaccattttagtcgattacatcaccgacccggatcagagcccgcgataacccataatatgcagagtcgactcacattcagga\"\n",
    "    \"gccgtagcatcatcatcggctggcaatcgtacaaccccggggatcctaagccatccgttgctatcgagttatttgcgttcgacaataattgctgcttagtacggaacgtggacccgtagc\"\n",
    "    \"tgggaatattttttatcagagtttccctttacgctcgatcgtgtgttcgacacgcgttgattgatgattactacaggaagagccaccgcgacaatcgcgtggctgcttctgcgcgcatcacgaggc\"\n",
    "    \"taggataagcaaacatctacgcgatttttgcctgcgcgga\"\n",
    ")\n",
    "#random dna sequence generated from: https://www.bioinformatics.org/sms2/random_dna.html\n",
    "markov_df = build_markov_matrix(dna_seq)\n",
    "print(markov_df)\n"
   ]
  }
 ],
 "metadata": {
  "kernelspec": {
   "display_name": "Python 3",
   "language": "python",
   "name": "python3"
  },
  "language_info": {
   "codemirror_mode": {
    "name": "ipython",
    "version": 3
   },
   "file_extension": ".py",
   "mimetype": "text/x-python",
   "name": "python",
   "nbconvert_exporter": "python",
   "pygments_lexer": "ipython3",
   "version": "3.11.7"
  }
 },
 "nbformat": 4,
 "nbformat_minor": 5
}
