{
 "cells": [
  {
   "cell_type": "code",
   "execution_count": 1,
   "id": "41503212",
   "metadata": {},
   "outputs": [],
   "source": [
    "import math"
   ]
  },
  {
   "cell_type": "code",
   "execution_count": 2,
   "id": "b6157587",
   "metadata": {},
   "outputs": [
    {
     "name": "stdout",
     "output_type": "stream",
     "text": [
      "Log probability of given path: -41.22\n"
     ]
    }
   ],
   "source": [
    "def log(x):\n",
    "    return -math.inf if x == 0 else math.log(x)\n",
    "\n",
    "def get_log_prob_of_a_given_path(path: str, seq: str) -> float:\n",
    "    if len(path) != len(seq):\n",
    "        raise ValueError(\"Path and sequence are of different lenghts.\")\n",
    "\n",
    "    prob = 0.0\n",
    "    for i in range(len(seq)):\n",
    "        p1 = path[i]\n",
    "        s1 = seq[i]\n",
    "        if i == 0:\n",
    "            prob += log(start_prob[p1])\n",
    "        else:\n",
    "            prob += log(trans_prob[path[i-1]][p1])\n",
    "        prob += log(emit_prob[p1][s1])\n",
    "\n",
    "    # Transition to End (only possible from I)\n",
    "    last_state = path[-1]\n",
    "    if last_state == 'I':\n",
    "        prob += log(trans_prob['I']['end'])  # I → End\n",
    "\n",
    "    return prob\n",
    "\n",
    "# Defining parameters as in Nature Primer\n",
    "states = ['E', '5', 'I']\n",
    "start_prob = {'E': 1.0, '5': 0.0, 'I': 0.0}\n",
    "\n",
    "trans_prob = {\n",
    "    'E': {'E': 0.9, '5': 0.1},\n",
    "    '5': {'I': 1.0},\n",
    "    'I': {'I': 0.9, 'end': 0.1},\n",
    "}\n",
    "\n",
    "emit_prob = {\n",
    "    'E': {'A': 0.25, 'C': 0.25, 'G': 0.25, 'T': 0.25},\n",
    "    '5': {'A': 0.05, 'C': 0.0, 'G': 0.95, 'T': 0.0},\n",
    "    'I': {'A': 0.4, 'C': 0.1, 'G': 0.1, 'T': 0.4}\n",
    "}\n",
    "\n",
    "path = \"EEEEEEEEEEEEEEEEEE5IIIIIII\"\n",
    "sequence = \"CTTCATGTGAAAGCAGACGTAAGTCA\"\n",
    "\n",
    "print(\"Log probability of given path:\", round(get_log_prob_of_a_given_path(path, sequence),2))\n"
   ]
  },
  {
   "cell_type": "code",
   "execution_count": 3,
   "id": "97ca4204",
   "metadata": {},
   "outputs": [
    {
     "name": "stdout",
     "output_type": "stream",
     "text": [
      "Viterbi best log probability: -38.68\n",
      "Most likely path: EEEEEEEEEEEEEEEEEEEEEEEEEE\n"
     ]
    }
   ],
   "source": [
    "V = [{}]\n",
    "path = {}\n",
    "\n",
    "for s in states:\n",
    "    V[0][s] = log(start_prob[s]) + log(emit_prob[s].get(sequence[0], 0))\n",
    "    path[s] = [s]\n",
    "\n",
    "# using a recursive approach\n",
    "for i in range(1, len(sequence)):\n",
    "    V.append({})\n",
    "    newpath = {}\n",
    "\n",
    "    for curr_state in states:\n",
    "        max_prob = -math.inf\n",
    "        best_prev = None\n",
    "\n",
    "        for prev_state in states:\n",
    "            # transition probability from prev_state to curr_state\n",
    "            trans_p = trans_prob.get(prev_state, {}).get(curr_state, 0)\n",
    "\n",
    "            if trans_p > 0:\n",
    "                # emission probability of current state emitting current observation\n",
    "                emit_p = emit_prob[curr_state].get(sequence[i], 0)\n",
    "\n",
    "                if emit_p > 0:\n",
    "                    prob = V[i-1][prev_state] + math.log(trans_p) + math.log(emit_p)\n",
    "\n",
    "                    if prob > max_prob:\n",
    "                        max_prob = prob\n",
    "                        best_prev = prev_state\n",
    "\n",
    "        # Set the max probability for this current state at time i\n",
    "        V[i][curr_state] = max_prob\n",
    "\n",
    "        # Buidling path\n",
    "        if best_prev is not None:\n",
    "            newpath[curr_state] = path[best_prev] + [curr_state]\n",
    "        else:\n",
    "            newpath[curr_state] = [curr_state]  # fallback in case of no valid path\n",
    "\n",
    "    # Update path for next iteration\n",
    "    path = newpath\n",
    "\n",
    "# Termination\n",
    "n = len(sequence) - 1\n",
    "(prob, state) = max((V[n][s], s) for s in states)\n",
    "\n",
    "logp = round(prob, 2)\n",
    "best_path = ''.join(path[state])\n",
    "\n",
    "\n",
    "print(\"Viterbi best log probability:\", logp)\n",
    "print(\"Most likely path:\", best_path)\n"
   ]
  }
 ],
 "metadata": {
  "kernelspec": {
   "display_name": "Python 3",
   "language": "python",
   "name": "python3"
  },
  "language_info": {
   "codemirror_mode": {
    "name": "ipython",
    "version": 3
   },
   "file_extension": ".py",
   "mimetype": "text/x-python",
   "name": "python",
   "nbconvert_exporter": "python",
   "pygments_lexer": "ipython3",
   "version": "3.12.2"
  }
 },
 "nbformat": 4,
 "nbformat_minor": 5
}
